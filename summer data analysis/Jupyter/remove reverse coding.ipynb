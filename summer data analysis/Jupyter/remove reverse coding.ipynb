{
 "cells": [
  {
   "cell_type": "code",
   "execution_count": 1,
   "metadata": {
    "collapsed": true
   },
   "outputs": [],
   "source": [
    "import numpy as np\n",
    "import pandas as pd\n",
    "import matplotlib.pyplot as plt"
   ]
  },
  {
   "cell_type": "code",
   "execution_count": 2,
   "metadata": {
    "collapsed": true
   },
   "outputs": [],
   "source": [
    "url_1 = \"part_1.csv\"\n",
    "part_1= pd.read_csv(url_1)"
   ]
  },
  {
   "cell_type": "code",
   "execution_count": 95,
   "metadata": {
    "collapsed": true
   },
   "outputs": [],
   "source": [
    "#remove id column\n",
    "new_frame = pilot_frame[[\"composer\", \"condition\", \"name\", \"response_value\", \"reverse\"]]"
   ]
  },
  {
   "cell_type": "code",
   "execution_count": 4,
   "metadata": {
    "collapsed": true
   },
   "outputs": [],
   "source": [
    "#convert response_value values to integers\n",
    "part_1[[\"response_value\"]] = part_1[[\"response_value\"]].apply(pd.to_numeric)"
   ]
  },
  {
   "cell_type": "code",
   "execution_count": 5,
   "metadata": {
    "collapsed": true
   },
   "outputs": [],
   "source": [
    "def reverse_reversal(x):\n",
    "    return 4 - x"
   ]
  },
  {
   "cell_type": "code",
   "execution_count": 6,
   "metadata": {
    "collapsed": true
   },
   "outputs": [],
   "source": [
    "#reverse reverse coding\n",
    "part_1.loc[part_1.reverse == True, \"response_value\"] = part_1.loc[part_1.reverse == True, \"response_value\"].apply(reverse_reversal)"
   ]
  },
  {
   "cell_type": "code",
   "execution_count": 8,
   "metadata": {
    "collapsed": true
   },
   "outputs": [],
   "source": [
    "#strip \"-reverse\" from names of reverse-coded entries\n",
    "part_1.loc[part_1.name == \"coherence-reverse\", \"name\"] = \"coherence\"\n",
    "part_1.loc[part_1.name == \"expressiveness-reverse\", \"name\"] = \"expressiveness\"\n",
    "part_1.loc[part_1.name == \"dynamism-reverse\", \"name\"] = \"dynamism\"\n",
    "part_1.loc[part_1.name == \"affect-reverse\", \"name\"] = \"affect\"\n",
    "part_1.loc[part_1.name == \"strangeness-reverse\", \"name\"] = \"strangeness\""
   ]
  },
  {
   "cell_type": "code",
   "execution_count": 9,
   "metadata": {
    "collapsed": true
   },
   "outputs": [],
   "source": [
    "#remove the reverse coding indicator column\n",
    "final_frame = part_1[[\"ID\",\"composer\", \"condition\", \"name\", \"response_value\"]]"
   ]
  },
  {
   "cell_type": "code",
   "execution_count": 10,
   "metadata": {
    "collapsed": true
   },
   "outputs": [],
   "source": [
    "final_frame.to_csv(\"rs_removed_part1.csv\")"
   ]
  },
  {
   "cell_type": "code",
   "execution_count": 11,
   "metadata": {
    "collapsed": true
   },
   "outputs": [],
   "source": [
    "#repeat for part 2"
   ]
  },
  {
   "cell_type": "code",
   "execution_count": 12,
   "metadata": {
    "collapsed": true
   },
   "outputs": [],
   "source": [
    "url_2 = \"part_2.csv\"\n",
    "part_2= pd.read_csv(url_2)"
   ]
  },
  {
   "cell_type": "code",
   "execution_count": 13,
   "metadata": {
    "collapsed": true
   },
   "outputs": [],
   "source": [
    "#convert response_value values to integers\n",
    "part_2[[\"response_value\"]] = part_2[[\"response_value\"]].apply(pd.to_numeric)"
   ]
  },
  {
   "cell_type": "code",
   "execution_count": 14,
   "metadata": {
    "collapsed": true
   },
   "outputs": [],
   "source": [
    "#reverse reverse coding\n",
    "part_2.loc[part_2.reverse == True, \"response_value\"] = part_2.loc[part_2.reverse == True, \"response_value\"].apply(reverse_reversal)"
   ]
  },
  {
   "cell_type": "code",
   "execution_count": 15,
   "metadata": {
    "collapsed": true
   },
   "outputs": [],
   "source": [
    "#strip \"-reverse\" from names of reverse-coded entries\n",
    "part_2.loc[part_2.name == \"coherence-reverse\", \"name\"] = \"coherence\"\n",
    "part_2.loc[part_2.name == \"expressiveness-reverse\", \"name\"] = \"expressiveness\"\n",
    "part_2.loc[part_2.name == \"dynamism-reverse\", \"name\"] = \"dynamism\"\n",
    "part_2.loc[part_2.name == \"affect-reverse\", \"name\"] = \"affect\"\n",
    "part_2.loc[part_2.name == \"strangeness-reverse\", \"name\"] = \"strangeness\""
   ]
  },
  {
   "cell_type": "code",
   "execution_count": 16,
   "metadata": {
    "collapsed": true
   },
   "outputs": [],
   "source": [
    "#remove the reverse coding indicator column\n",
    "final_frame = part_2[[\"ID\",\"composer\", \"condition\", \"name\", \"response_value\"]]"
   ]
  },
  {
   "cell_type": "code",
   "execution_count": 17,
   "metadata": {
    "collapsed": true
   },
   "outputs": [],
   "source": [
    "final_frame.to_csv(\"rs_removed_part2.csv\")"
   ]
  },
  {
   "cell_type": "code",
   "execution_count": null,
   "metadata": {
    "collapsed": true
   },
   "outputs": [],
   "source": []
  }
 ],
 "metadata": {
  "kernelspec": {
   "display_name": "Python 2",
   "language": "python",
   "name": "python2"
  },
  "language_info": {
   "codemirror_mode": {
    "name": "ipython",
    "version": 2
   },
   "file_extension": ".py",
   "mimetype": "text/x-python",
   "name": "python",
   "nbconvert_exporter": "python",
   "pygments_lexer": "ipython2",
   "version": "2.7.14"
  }
 },
 "nbformat": 4,
 "nbformat_minor": 2
}
