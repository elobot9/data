{
 "cells": [
  {
   "cell_type": "code",
   "execution_count": 1,
   "metadata": {
    "collapsed": true
   },
   "outputs": [],
   "source": [
    "import numpy as np\n",
    "import pandas as pd\n",
    "import matplotlib"
   ]
  },
  {
   "cell_type": "code",
   "execution_count": 2,
   "metadata": {
    "collapsed": true
   },
   "outputs": [],
   "source": [
    "#import csvs\n",
    "url_1 = \"part_1.csv\"\n",
    "part_1= pd.read_csv(url_1)\n",
    "\n",
    "url_2 = \"part_2.csv\"\n",
    "part_2= pd.read_csv(url_2)"
   ]
  },
  {
   "cell_type": "code",
   "execution_count": 6,
   "metadata": {},
   "outputs": [],
   "source": [
    "#list all unique entries in the ID column for each df\n",
    "p1_IDs = part_1.ID.unique()\n",
    "p2_IDs = part_2.ID.unique()"
   ]
  },
  {
   "cell_type": "code",
   "execution_count": 15,
   "metadata": {},
   "outputs": [
    {
     "data": {
      "text/plain": [
       "array([ 1.,  0.,  3.])"
      ]
     },
     "execution_count": 15,
     "metadata": {},
     "output_type": "execute_result"
    }
   ],
   "source": [
    "id1 = p1_IDs[0]\n",
    "id_info = part_1.loc[part_1['ID'] == id1]\n",
    "id_info.response_value.unique()"
   ]
  },
  {
   "cell_type": "code",
   "execution_count": 14,
   "metadata": {},
   "outputs": [
    {
     "data": {
      "text/plain": [
       "array(['enjoyment', 'desire-to-own', 'coherence-reverse',\n",
       "       'dynamism-reverse', 'dynamism', 'expressiveness', 'affect',\n",
       "       'strangeness', 'affect-reverse', 'coherence', 'strangeness-reverse',\n",
       "       'expressiveness-reverse'], dtype=object)"
      ]
     },
     "execution_count": 14,
     "metadata": {},
     "output_type": "execute_result"
    }
   ],
   "source": [
    "id_info.name.unique()"
   ]
  },
  {
   "cell_type": "code",
   "execution_count": 25,
   "metadata": {},
   "outputs": [],
   "source": [
    "for ID in p1_IDs:\n",
    "    results = part_1.loc[part_1['ID'] == ID]\n",
    "    if len(results.response_value.unique()) == 0:\n",
    "        print ID"
   ]
  },
  {
   "cell_type": "code",
   "execution_count": 26,
   "metadata": {},
   "outputs": [],
   "source": [
    "for ID in p2_IDs:\n",
    "    results = part_2.loc[part_1['ID'] == ID]\n",
    "    if len(results.response_value.unique()) == 0:\n",
    "        print ID"
   ]
  },
  {
   "cell_type": "code",
   "execution_count": 24,
   "metadata": {
    "collapsed": true
   },
   "outputs": [],
   "source": [
    "p2_wimps = ['AB7LYMORLR5H0:34S9DKFK741VKQSO70B2Y4YBNZHNYE','AO33H4GL9KZX9:30LSNF239V7D54OQHZRFKS1PMZYI2A',\n",
    "'A2I5850G7EOPQ2:3L0KT67Y8FSS03KTFWSOXY8H8B8SY2','AJRY9ALX8069Y:3Z2R0DQ0JIQ1PZM4LG1OZD3XRGVE2I']\n"
   ]
  },
  {
   "cell_type": "code",
   "execution_count": 32,
   "metadata": {},
   "outputs": [
    {
     "data": {
      "text/html": [
       "<div>\n",
       "<style>\n",
       "    .dataframe thead tr:only-child th {\n",
       "        text-align: right;\n",
       "    }\n",
       "\n",
       "    .dataframe thead th {\n",
       "        text-align: left;\n",
       "    }\n",
       "\n",
       "    .dataframe tbody tr th {\n",
       "        vertical-align: top;\n",
       "    }\n",
       "</style>\n",
       "<table border=\"1\" class=\"dataframe\">\n",
       "  <thead>\n",
       "    <tr style=\"text-align: right;\">\n",
       "      <th></th>\n",
       "      <th>ID</th>\n",
       "      <th>response_value</th>\n",
       "      <th>name</th>\n",
       "      <th>composer</th>\n",
       "      <th>id</th>\n",
       "      <th>condition</th>\n",
       "      <th>reverse</th>\n",
       "    </tr>\n",
       "  </thead>\n",
       "  <tbody>\n",
       "    <tr>\n",
       "      <th>2220</th>\n",
       "      <td>A2I5850G7EOPQ2:3L0KT67Y8FSS03KTFWSOXY8H8B8SY2</td>\n",
       "      <td>3.0</td>\n",
       "      <td>enjoyment</td>\n",
       "      <td>chopin</td>\n",
       "      <td>10</td>\n",
       "      <td>scrambled</td>\n",
       "      <td>False</td>\n",
       "    </tr>\n",
       "    <tr>\n",
       "      <th>2221</th>\n",
       "      <td>A2I5850G7EOPQ2:3L0KT67Y8FSS03KTFWSOXY8H8B8SY2</td>\n",
       "      <td>2.0</td>\n",
       "      <td>desire-to-own</td>\n",
       "      <td>chopin</td>\n",
       "      <td>11</td>\n",
       "      <td>scrambled</td>\n",
       "      <td>False</td>\n",
       "    </tr>\n",
       "    <tr>\n",
       "      <th>2222</th>\n",
       "      <td>A2I5850G7EOPQ2:3L0KT67Y8FSS03KTFWSOXY8H8B8SY2</td>\n",
       "      <td>2.0</td>\n",
       "      <td>coherence-reverse</td>\n",
       "      <td>chopin</td>\n",
       "      <td>0</td>\n",
       "      <td>scrambled</td>\n",
       "      <td>True</td>\n",
       "    </tr>\n",
       "    <tr>\n",
       "      <th>2223</th>\n",
       "      <td>A2I5850G7EOPQ2:3L0KT67Y8FSS03KTFWSOXY8H8B8SY2</td>\n",
       "      <td>3.0</td>\n",
       "      <td>strangeness</td>\n",
       "      <td>chopin</td>\n",
       "      <td>1</td>\n",
       "      <td>scrambled</td>\n",
       "      <td>False</td>\n",
       "    </tr>\n",
       "    <tr>\n",
       "      <th>2224</th>\n",
       "      <td>A2I5850G7EOPQ2:3L0KT67Y8FSS03KTFWSOXY8H8B8SY2</td>\n",
       "      <td>2.0</td>\n",
       "      <td>affect</td>\n",
       "      <td>chopin</td>\n",
       "      <td>2</td>\n",
       "      <td>scrambled</td>\n",
       "      <td>False</td>\n",
       "    </tr>\n",
       "    <tr>\n",
       "      <th>2225</th>\n",
       "      <td>A2I5850G7EOPQ2:3L0KT67Y8FSS03KTFWSOXY8H8B8SY2</td>\n",
       "      <td>2.0</td>\n",
       "      <td>affect-reverse</td>\n",
       "      <td>chopin</td>\n",
       "      <td>3</td>\n",
       "      <td>scrambled</td>\n",
       "      <td>True</td>\n",
       "    </tr>\n",
       "    <tr>\n",
       "      <th>2226</th>\n",
       "      <td>A2I5850G7EOPQ2:3L0KT67Y8FSS03KTFWSOXY8H8B8SY2</td>\n",
       "      <td>2.0</td>\n",
       "      <td>dynamism-reverse</td>\n",
       "      <td>chopin</td>\n",
       "      <td>4</td>\n",
       "      <td>scrambled</td>\n",
       "      <td>True</td>\n",
       "    </tr>\n",
       "    <tr>\n",
       "      <th>2227</th>\n",
       "      <td>A2I5850G7EOPQ2:3L0KT67Y8FSS03KTFWSOXY8H8B8SY2</td>\n",
       "      <td>2.0</td>\n",
       "      <td>expressiveness</td>\n",
       "      <td>chopin</td>\n",
       "      <td>5</td>\n",
       "      <td>scrambled</td>\n",
       "      <td>False</td>\n",
       "    </tr>\n",
       "    <tr>\n",
       "      <th>2228</th>\n",
       "      <td>A2I5850G7EOPQ2:3L0KT67Y8FSS03KTFWSOXY8H8B8SY2</td>\n",
       "      <td>2.0</td>\n",
       "      <td>coherence</td>\n",
       "      <td>chopin</td>\n",
       "      <td>6</td>\n",
       "      <td>scrambled</td>\n",
       "      <td>False</td>\n",
       "    </tr>\n",
       "    <tr>\n",
       "      <th>2229</th>\n",
       "      <td>A2I5850G7EOPQ2:3L0KT67Y8FSS03KTFWSOXY8H8B8SY2</td>\n",
       "      <td>3.0</td>\n",
       "      <td>strangeness-reverse</td>\n",
       "      <td>chopin</td>\n",
       "      <td>7</td>\n",
       "      <td>scrambled</td>\n",
       "      <td>True</td>\n",
       "    </tr>\n",
       "    <tr>\n",
       "      <th>2230</th>\n",
       "      <td>A2I5850G7EOPQ2:3L0KT67Y8FSS03KTFWSOXY8H8B8SY2</td>\n",
       "      <td>2.0</td>\n",
       "      <td>expressiveness-reverse</td>\n",
       "      <td>chopin</td>\n",
       "      <td>8</td>\n",
       "      <td>scrambled</td>\n",
       "      <td>True</td>\n",
       "    </tr>\n",
       "    <tr>\n",
       "      <th>2231</th>\n",
       "      <td>A2I5850G7EOPQ2:3L0KT67Y8FSS03KTFWSOXY8H8B8SY2</td>\n",
       "      <td>3.0</td>\n",
       "      <td>dynamism</td>\n",
       "      <td>chopin</td>\n",
       "      <td>9</td>\n",
       "      <td>scrambled</td>\n",
       "      <td>False</td>\n",
       "    </tr>\n",
       "  </tbody>\n",
       "</table>\n",
       "</div>"
      ],
      "text/plain": [
       "                                                 ID  response_value  \\\n",
       "2220  A2I5850G7EOPQ2:3L0KT67Y8FSS03KTFWSOXY8H8B8SY2             3.0   \n",
       "2221  A2I5850G7EOPQ2:3L0KT67Y8FSS03KTFWSOXY8H8B8SY2             2.0   \n",
       "2222  A2I5850G7EOPQ2:3L0KT67Y8FSS03KTFWSOXY8H8B8SY2             2.0   \n",
       "2223  A2I5850G7EOPQ2:3L0KT67Y8FSS03KTFWSOXY8H8B8SY2             3.0   \n",
       "2224  A2I5850G7EOPQ2:3L0KT67Y8FSS03KTFWSOXY8H8B8SY2             2.0   \n",
       "2225  A2I5850G7EOPQ2:3L0KT67Y8FSS03KTFWSOXY8H8B8SY2             2.0   \n",
       "2226  A2I5850G7EOPQ2:3L0KT67Y8FSS03KTFWSOXY8H8B8SY2             2.0   \n",
       "2227  A2I5850G7EOPQ2:3L0KT67Y8FSS03KTFWSOXY8H8B8SY2             2.0   \n",
       "2228  A2I5850G7EOPQ2:3L0KT67Y8FSS03KTFWSOXY8H8B8SY2             2.0   \n",
       "2229  A2I5850G7EOPQ2:3L0KT67Y8FSS03KTFWSOXY8H8B8SY2             3.0   \n",
       "2230  A2I5850G7EOPQ2:3L0KT67Y8FSS03KTFWSOXY8H8B8SY2             2.0   \n",
       "2231  A2I5850G7EOPQ2:3L0KT67Y8FSS03KTFWSOXY8H8B8SY2             3.0   \n",
       "\n",
       "                        name composer  id  condition  reverse  \n",
       "2220               enjoyment   chopin  10  scrambled    False  \n",
       "2221           desire-to-own   chopin  11  scrambled    False  \n",
       "2222       coherence-reverse   chopin   0  scrambled     True  \n",
       "2223             strangeness   chopin   1  scrambled    False  \n",
       "2224                  affect   chopin   2  scrambled    False  \n",
       "2225          affect-reverse   chopin   3  scrambled     True  \n",
       "2226        dynamism-reverse   chopin   4  scrambled     True  \n",
       "2227          expressiveness   chopin   5  scrambled    False  \n",
       "2228               coherence   chopin   6  scrambled    False  \n",
       "2229     strangeness-reverse   chopin   7  scrambled     True  \n",
       "2230  expressiveness-reverse   chopin   8  scrambled     True  \n",
       "2231                dynamism   chopin   9  scrambled    False  "
      ]
     },
     "execution_count": 32,
     "metadata": {},
     "output_type": "execute_result"
    }
   ],
   "source": [
    "part_2.loc[part_2['ID'] =='A2I5850G7EOPQ2:3L0KT67Y8FSS03KTFWSOXY8H8B8SY2']"
   ]
  },
  {
   "cell_type": "code",
   "execution_count": null,
   "metadata": {
    "collapsed": true
   },
   "outputs": [],
   "source": []
  }
 ],
 "metadata": {
  "kernelspec": {
   "display_name": "Python 2",
   "language": "python",
   "name": "python2"
  },
  "language_info": {
   "codemirror_mode": {
    "name": "ipython",
    "version": 2
   },
   "file_extension": ".py",
   "mimetype": "text/x-python",
   "name": "python",
   "nbconvert_exporter": "python",
   "pygments_lexer": "ipython2",
   "version": "2.7.14"
  }
 },
 "nbformat": 4,
 "nbformat_minor": 2
}
