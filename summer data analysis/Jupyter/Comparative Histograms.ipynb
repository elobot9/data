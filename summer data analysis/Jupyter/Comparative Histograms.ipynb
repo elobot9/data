{
 "cells": [
  {
   "cell_type": "code",
   "execution_count": 1,
   "metadata": {
    "collapsed": true
   },
   "outputs": [],
   "source": [
    "import numpy as np\n",
    "import pandas as pd\n",
    "import matplotlib\n",
    "import seaborn as sns\n",
    "import pylab as pl"
   ]
  },
  {
   "cell_type": "code",
   "execution_count": 2,
   "metadata": {
    "collapsed": true
   },
   "outputs": [],
   "source": [
    "#import csvs\n",
    "url_1 = 'rs_removed_part1.csv'\n",
    "url_2 = 'rs_removed_part2.csv'\n",
    "part_1 = pd.read_csv(url_1)\n",
    "part_2 = pd.read_csv(url_2)"
   ]
  },
  {
   "cell_type": "code",
   "execution_count": 3,
   "metadata": {
    "collapsed": true
   },
   "outputs": [],
   "source": [
    "#remove extra column\n",
    "part_1 = part_1[[\"ID\", \"composer\", \"condition\", \"name\", \"response_value\"]]\n",
    "part_2 = part_2[[\"ID\", \"composer\", \"condition\", \"name\", \"response_value\"]]"
   ]
  },
  {
   "cell_type": "code",
   "execution_count": 4,
   "metadata": {
    "collapsed": true
   },
   "outputs": [],
   "source": [
    "full = part_1.append(part_1)"
   ]
  },
  {
   "cell_type": "code",
   "execution_count": 5,
   "metadata": {
    "collapsed": true
   },
   "outputs": [],
   "source": [
    "%matplotlib inline\n",
    "import matplotlib.pyplot as plt"
   ]
  },
  {
   "cell_type": "code",
   "execution_count": 6,
   "metadata": {
    "collapsed": true
   },
   "outputs": [],
   "source": [
    "#isolate data by question name\n",
    "enjoyment = full[full[\"name\"] == \"enjoyment\"]\n",
    "\n",
    "enj_bach = enjoyment[enjoyment[\"composer\"] == \"bach\"]\n",
    "enj_bach_f = enj_bach[enj_bach[\"condition\"] == \"forward\"]\n",
    "enjbf_resp = enj_bach_f[[\"response_value\"]]\n",
    "\n",
    "enj_chopin = enjoyment[enjoyment[\"composer\"] == \"chopin\"]\n",
    "enj_chopin_f = enj_chopin[enj_chopin[\"condition\"] == \"forward\"]\n",
    "enjcf_resp = enj_chopin_f[[\"response_value\"]]\n",
    "\n",
    "\n",
    "\n",
    "desire = full[full[\"name\"] == \"desire-to-own\"]\n",
    "\n",
    "\n",
    "dynamism = full[full[\"name\"] == \"dynamism\"]\n",
    "expressiveness = full[full[\"name\"] == \"expressiveness\"]\n",
    "affect = full[full[\"name\"] == \"affect\"]\n",
    "strangeness = full[full[\"name\"] == \"strangeness\"]"
   ]
  },
  {
   "cell_type": "code",
   "execution_count": 20,
   "metadata": {
    "collapsed": true
   },
   "outputs": [],
   "source": [
    "coherence = full[full[\"name\"] == \"coherence\"]\n",
    "\n",
    "coh_bach_f = coherence[(coherence[\"composer\"] == \"bach\") & (coherence[\"condition\"] == \"forward\")]\n",
    "coh_bf_resp = coh_bach_f[[\"response_value\"]]\n",
    "\n",
    "coh_bach_r = coherence[(coherence[\"composer\"] == \"bach\") & (coherence[\"condition\"] == \"reversed\")]\n",
    "coh_br_resp = coh_bach_r[[\"response_value\"]]\n",
    "\n",
    "coh_bach_s = coherence[(coherence[\"composer\"] == \"bach\") & (coherence[\"condition\"] == \"scrambled\")]\n",
    "coh_bs_resp = coh_bach_s[[\"response_value\"]]\n",
    "\n",
    "coh_chopin_f = coherence[(coherence[\"composer\"] == \"chopin\") & (coherence[\"condition\"] == \"forward\")]\n",
    "coh_cf_resp = coh_chopin_f[[\"response_value\"]]\n",
    "\n",
    "coh_chopin_r = coherence[(coherence[\"composer\"] == \"chopin\") & (coherence[\"condition\"] == \"reversed\")]\n",
    "coh_cr_resp = coh_chopin_r[[\"response_value\"]]\n",
    "\n",
    "coh_chopin_s = coherence[(coherence[\"composer\"] == \"chopin\") & (coherence[\"condition\"] == \"scrambled\")]\n",
    "coh_cs_resp = coh_chopin_s[[\"response_value\"]]"
   ]
  },
  {
   "cell_type": "code",
   "execution_count": 13,
   "metadata": {},
   "outputs": [
    {
     "data": {
      "text/plain": [
       "response_value    2.973684\n",
       "dtype: float64"
      ]
     },
     "execution_count": 13,
     "metadata": {},
     "output_type": "execute_result"
    }
   ],
   "source": [
    "coh_bf_resp.mean()"
   ]
  },
  {
   "cell_type": "code",
   "execution_count": 24,
   "metadata": {},
   "outputs": [
    {
     "data": {
      "text/plain": [
       "response_value    0.086541\n",
       "dtype: float64"
      ]
     },
     "execution_count": 24,
     "metadata": {},
     "output_type": "execute_result"
    }
   ],
   "source": [
    "coh_bf_resp.sem()"
   ]
  },
  {
   "cell_type": "code",
   "execution_count": 21,
   "metadata": {},
   "outputs": [
    {
     "data": {
      "text/plain": [
       "response_value    2.860759\n",
       "dtype: float64"
      ]
     },
     "execution_count": 21,
     "metadata": {},
     "output_type": "execute_result"
    }
   ],
   "source": [
    "coh_br_resp.mean()"
   ]
  },
  {
   "cell_type": "code",
   "execution_count": 22,
   "metadata": {},
   "outputs": [
    {
     "data": {
      "text/plain": [
       "response_value    0.084932\n",
       "dtype: float64"
      ]
     },
     "execution_count": 22,
     "metadata": {},
     "output_type": "execute_result"
    }
   ],
   "source": [
    "coh_br_resp.sem()"
   ]
  },
  {
   "cell_type": "code",
   "execution_count": 25,
   "metadata": {},
   "outputs": [
    {
     "data": {
      "text/plain": [
       "response_value    3.013158\n",
       "dtype: float64"
      ]
     },
     "execution_count": 25,
     "metadata": {},
     "output_type": "execute_result"
    }
   ],
   "source": [
    "coh_bs_resp.mean()"
   ]
  },
  {
   "cell_type": "code",
   "execution_count": 26,
   "metadata": {},
   "outputs": [
    {
     "data": {
      "text/plain": [
       "response_value    0.091931\n",
       "dtype: float64"
      ]
     },
     "execution_count": 26,
     "metadata": {},
     "output_type": "execute_result"
    }
   ],
   "source": [
    "coh_bs_resp.sem()"
   ]
  },
  {
   "cell_type": "code",
   "execution_count": 27,
   "metadata": {},
   "outputs": [
    {
     "data": {
      "text/plain": [
       "response_value    2.948718\n",
       "dtype: float64"
      ]
     },
     "execution_count": 27,
     "metadata": {},
     "output_type": "execute_result"
    }
   ],
   "source": [
    "coh_cf_resp.mean()"
   ]
  },
  {
   "cell_type": "code",
   "execution_count": 28,
   "metadata": {},
   "outputs": [
    {
     "data": {
      "text/plain": [
       "response_value    0.089938\n",
       "dtype: float64"
      ]
     },
     "execution_count": 28,
     "metadata": {},
     "output_type": "execute_result"
    }
   ],
   "source": [
    "coh_cf_resp.sem()"
   ]
  },
  {
   "cell_type": "code",
   "execution_count": 30,
   "metadata": {},
   "outputs": [
    {
     "data": {
      "text/plain": [
       "response_value    2.402778\n",
       "dtype: float64"
      ]
     },
     "execution_count": 30,
     "metadata": {},
     "output_type": "execute_result"
    }
   ],
   "source": [
    "coh_cr_resp.mean()"
   ]
  },
  {
   "cell_type": "code",
   "execution_count": 32,
   "metadata": {},
   "outputs": [
    {
     "data": {
      "text/plain": [
       "response_value    0.0992\n",
       "dtype: float64"
      ]
     },
     "execution_count": 32,
     "metadata": {},
     "output_type": "execute_result"
    }
   ],
   "source": [
    "coh_cr_resp.sem()"
   ]
  },
  {
   "cell_type": "code",
   "execution_count": 33,
   "metadata": {},
   "outputs": [
    {
     "data": {
      "text/plain": [
       "response_value    2.763889\n",
       "dtype: float64"
      ]
     },
     "execution_count": 33,
     "metadata": {},
     "output_type": "execute_result"
    }
   ],
   "source": [
    "coh_cs_resp.mean()"
   ]
  },
  {
   "cell_type": "code",
   "execution_count": 34,
   "metadata": {},
   "outputs": [
    {
     "data": {
      "text/plain": [
       "response_value    0.08066\n",
       "dtype: float64"
      ]
     },
     "execution_count": 34,
     "metadata": {},
     "output_type": "execute_result"
    }
   ],
   "source": [
    "coh_cs_resp.sem()"
   ]
  },
  {
   "cell_type": "code",
   "execution_count": 35,
   "metadata": {
    "collapsed": true
   },
   "outputs": [],
   "source": [
    "strangeness = full[full[\"name\"] == \"strangeness\"]\n",
    "\n",
    "str_bach_f = strangeness[(strangeness[\"composer\"] == \"bach\") & (strangeness[\"condition\"] == \"forward\")]\n",
    "str_bf_resp = str_bach_f[[\"response_value\"]]\n",
    "\n",
    "str_bach_r = strangeness[(strangeness[\"composer\"] == \"bach\") & (strangeness[\"condition\"] == \"reversed\")]\n",
    "str_br_resp = str_bach_r[[\"response_value\"]]\n",
    "\n",
    "str_bach_s = strangeness[(strangeness[\"composer\"] == \"bach\") & (strangeness[\"condition\"] == \"scrambled\")]\n",
    "str_bs_resp = str_bach_s[[\"response_value\"]]\n",
    "\n",
    "str_chopin_f = strangeness[(strangeness[\"composer\"] == \"chopin\") & (strangeness[\"condition\"] == \"forward\")]\n",
    "str_cf_resp = str_chopin_f[[\"response_value\"]]\n",
    "\n",
    "str_chopin_r = strangeness[(strangeness[\"composer\"] == \"chopin\") & (strangeness[\"condition\"] == \"reversed\")]\n",
    "str_cr_resp = str_chopin_r[[\"response_value\"]]\n",
    "\n",
    "str_chopin_s = strangeness[(strangeness[\"composer\"] == \"chopin\") & (strangeness[\"condition\"] == \"scrambled\")]\n",
    "str_cs_resp = str_chopin_s[[\"response_value\"]]"
   ]
  },
  {
   "cell_type": "code",
   "execution_count": 36,
   "metadata": {},
   "outputs": [
    {
     "data": {
      "text/plain": [
       "response_value    1.093333\n",
       "dtype: float64"
      ]
     },
     "execution_count": 36,
     "metadata": {},
     "output_type": "execute_result"
    }
   ],
   "source": [
    "str_bf_resp.mean()"
   ]
  },
  {
   "cell_type": "code",
   "execution_count": 37,
   "metadata": {},
   "outputs": [
    {
     "data": {
      "text/plain": [
       "response_value    0.098465\n",
       "dtype: float64"
      ]
     },
     "execution_count": 37,
     "metadata": {},
     "output_type": "execute_result"
    }
   ],
   "source": [
    "str_bf_resp.sem()"
   ]
  },
  {
   "cell_type": "code",
   "execution_count": 38,
   "metadata": {},
   "outputs": [
    {
     "data": {
      "text/plain": [
       "response_value    1.1\n",
       "dtype: float64"
      ]
     },
     "execution_count": 38,
     "metadata": {},
     "output_type": "execute_result"
    }
   ],
   "source": [
    "str_br_resp.mean()"
   ]
  },
  {
   "cell_type": "code",
   "execution_count": 39,
   "metadata": {},
   "outputs": [
    {
     "data": {
      "text/plain": [
       "response_value    0.087416\n",
       "dtype: float64"
      ]
     },
     "execution_count": 39,
     "metadata": {},
     "output_type": "execute_result"
    }
   ],
   "source": [
    "str_br_resp.sem()"
   ]
  },
  {
   "cell_type": "code",
   "execution_count": 40,
   "metadata": {},
   "outputs": [
    {
     "data": {
      "text/plain": [
       "response_value    1.289474\n",
       "dtype: float64"
      ]
     },
     "execution_count": 40,
     "metadata": {},
     "output_type": "execute_result"
    }
   ],
   "source": [
    "str_bs_resp.mean()"
   ]
  },
  {
   "cell_type": "code",
   "execution_count": 41,
   "metadata": {},
   "outputs": [
    {
     "data": {
      "text/plain": [
       "response_value    0.09594\n",
       "dtype: float64"
      ]
     },
     "execution_count": 41,
     "metadata": {},
     "output_type": "execute_result"
    }
   ],
   "source": [
    "str_bs_resp.sem()"
   ]
  },
  {
   "cell_type": "code",
   "execution_count": 42,
   "metadata": {},
   "outputs": [
    {
     "data": {
      "text/plain": [
       "response_value    1.397436\n",
       "dtype: float64"
      ]
     },
     "execution_count": 42,
     "metadata": {},
     "output_type": "execute_result"
    }
   ],
   "source": [
    "str_cf_resp.mean()"
   ]
  },
  {
   "cell_type": "code",
   "execution_count": 43,
   "metadata": {},
   "outputs": [
    {
     "data": {
      "text/plain": [
       "response_value    0.102362\n",
       "dtype: float64"
      ]
     },
     "execution_count": 43,
     "metadata": {},
     "output_type": "execute_result"
    }
   ],
   "source": [
    "str_cf_resp.sem()"
   ]
  },
  {
   "cell_type": "code",
   "execution_count": 44,
   "metadata": {},
   "outputs": [
    {
     "data": {
      "text/plain": [
       "response_value    2.180556\n",
       "dtype: float64"
      ]
     },
     "execution_count": 44,
     "metadata": {},
     "output_type": "execute_result"
    }
   ],
   "source": [
    "str_cr_resp.mean()"
   ]
  },
  {
   "cell_type": "code",
   "execution_count": 45,
   "metadata": {},
   "outputs": [
    {
     "data": {
      "text/plain": [
       "response_value    0.097886\n",
       "dtype: float64"
      ]
     },
     "execution_count": 45,
     "metadata": {},
     "output_type": "execute_result"
    }
   ],
   "source": [
    "str_cr_resp.sem()"
   ]
  },
  {
   "cell_type": "code",
   "execution_count": 46,
   "metadata": {},
   "outputs": [
    {
     "data": {
      "text/plain": [
       "response_value    1.888889\n",
       "dtype: float64"
      ]
     },
     "execution_count": 46,
     "metadata": {},
     "output_type": "execute_result"
    }
   ],
   "source": [
    "str_cs_resp.mean()"
   ]
  },
  {
   "cell_type": "code",
   "execution_count": 47,
   "metadata": {},
   "outputs": [
    {
     "data": {
      "text/plain": [
       "response_value    0.101039\n",
       "dtype: float64"
      ]
     },
     "execution_count": 47,
     "metadata": {},
     "output_type": "execute_result"
    }
   ],
   "source": [
    "str_cs_resp.sem()"
   ]
  },
  {
   "cell_type": "code",
   "execution_count": 48,
   "metadata": {
    "collapsed": true
   },
   "outputs": [],
   "source": [
    "chopin = full[full[\"composer\"] == \"chopin\"]"
   ]
  },
  {
   "cell_type": "code",
   "execution_count": 49,
   "metadata": {},
   "outputs": [
    {
     "data": {
      "text/plain": [
       "ID                2664\n",
       "composer          2664\n",
       "condition         2664\n",
       "name              2664\n",
       "response_value    2660\n",
       "dtype: int64"
      ]
     },
     "execution_count": 49,
     "metadata": {},
     "output_type": "execute_result"
    }
   ],
   "source": [
    "chopin.count()"
   ]
  },
  {
   "cell_type": "code",
   "execution_count": 50,
   "metadata": {
    "collapsed": true
   },
   "outputs": [],
   "source": [
    "bach = full[full[\"composer\"] == \"bach\"]"
   ]
  },
  {
   "cell_type": "code",
   "execution_count": 51,
   "metadata": {},
   "outputs": [
    {
     "data": {
      "text/plain": [
       "ID                2784\n",
       "composer          2784\n",
       "condition         2784\n",
       "name              2784\n",
       "response_value    2778\n",
       "dtype: int64"
      ]
     },
     "execution_count": 51,
     "metadata": {},
     "output_type": "execute_result"
    }
   ],
   "source": [
    "bach.count()"
   ]
  },
  {
   "cell_type": "code",
   "execution_count": 53,
   "metadata": {},
   "outputs": [
    {
     "data": {
      "text/plain": [
       "ID                1848\n",
       "composer          1848\n",
       "condition         1848\n",
       "name              1848\n",
       "response_value    1842\n",
       "dtype: int64"
      ]
     },
     "execution_count": 53,
     "metadata": {},
     "output_type": "execute_result"
    }
   ],
   "source": [
    "forward = full[full[\"condition\"] == \"forward\"]\n",
    "forward.count()"
   ]
  },
  {
   "cell_type": "code",
   "execution_count": 55,
   "metadata": {},
   "outputs": [
    {
     "data": {
      "text/plain": [
       "ID                1824\n",
       "composer          1824\n",
       "condition         1824\n",
       "name              1824\n",
       "response_value    1820\n",
       "dtype: int64"
      ]
     },
     "execution_count": 55,
     "metadata": {},
     "output_type": "execute_result"
    }
   ],
   "source": [
    "reverse = full[full[\"condition\"] == \"reversed\"]\n",
    "reverse.count()"
   ]
  },
  {
   "cell_type": "code",
   "execution_count": 56,
   "metadata": {
    "collapsed": true
   },
   "outputs": [],
   "source": [
    "scrambled = full[full[\"condition\"] == \"scrambled\"]"
   ]
  },
  {
   "cell_type": "code",
   "execution_count": 57,
   "metadata": {},
   "outputs": [
    {
     "data": {
      "text/plain": [
       "ID                1776\n",
       "composer          1776\n",
       "condition         1776\n",
       "name              1776\n",
       "response_value    1776\n",
       "dtype: int64"
      ]
     },
     "execution_count": 57,
     "metadata": {},
     "output_type": "execute_result"
    }
   ],
   "source": [
    "scrambled.count()"
   ]
  },
  {
   "cell_type": "code",
   "execution_count": 59,
   "metadata": {},
   "outputs": [],
   "source": [
    "fulltab = pd.crosstab(full[\"condition\"], full[\"composer\"], margins=True)"
   ]
  },
  {
   "cell_type": "code",
   "execution_count": 60,
   "metadata": {},
   "outputs": [
    {
     "data": {
      "text/html": [
       "<div>\n",
       "<style>\n",
       "    .dataframe thead tr:only-child th {\n",
       "        text-align: right;\n",
       "    }\n",
       "\n",
       "    .dataframe thead th {\n",
       "        text-align: left;\n",
       "    }\n",
       "\n",
       "    .dataframe tbody tr th {\n",
       "        vertical-align: top;\n",
       "    }\n",
       "</style>\n",
       "<table border=\"1\" class=\"dataframe\">\n",
       "  <thead>\n",
       "    <tr style=\"text-align: right;\">\n",
       "      <th>composer</th>\n",
       "      <th>bach</th>\n",
       "      <th>chopin</th>\n",
       "      <th>All</th>\n",
       "    </tr>\n",
       "    <tr>\n",
       "      <th>condition</th>\n",
       "      <th></th>\n",
       "      <th></th>\n",
       "      <th></th>\n",
       "    </tr>\n",
       "  </thead>\n",
       "  <tbody>\n",
       "    <tr>\n",
       "      <th>forward</th>\n",
       "      <td>912</td>\n",
       "      <td>936</td>\n",
       "      <td>1848</td>\n",
       "    </tr>\n",
       "    <tr>\n",
       "      <th>reversed</th>\n",
       "      <td>960</td>\n",
       "      <td>864</td>\n",
       "      <td>1824</td>\n",
       "    </tr>\n",
       "    <tr>\n",
       "      <th>scrambled</th>\n",
       "      <td>912</td>\n",
       "      <td>864</td>\n",
       "      <td>1776</td>\n",
       "    </tr>\n",
       "    <tr>\n",
       "      <th>All</th>\n",
       "      <td>2784</td>\n",
       "      <td>2664</td>\n",
       "      <td>5448</td>\n",
       "    </tr>\n",
       "  </tbody>\n",
       "</table>\n",
       "</div>"
      ],
      "text/plain": [
       "composer   bach  chopin   All\n",
       "condition                    \n",
       "forward     912     936  1848\n",
       "reversed    960     864  1824\n",
       "scrambled   912     864  1776\n",
       "All        2784    2664  5448"
      ]
     },
     "execution_count": 60,
     "metadata": {},
     "output_type": "execute_result"
    }
   ],
   "source": [
    "fulltab"
   ]
  },
  {
   "cell_type": "code",
   "execution_count": 61,
   "metadata": {
    "collapsed": true
   },
   "outputs": [],
   "source": [
    "expressiveness = full[full[\"name\"] == \"expressiveness\"]\n",
    "\n",
    "exp_bach_f = expressiveness[(expressiveness[\"composer\"] == \"bach\") & (expressiveness[\"condition\"] == \"forward\")]\n",
    "exp_bf_resp = exp_bach_f[[\"response_value\"]]\n",
    "\n",
    "exp_bach_r = expressiveness[(expressiveness[\"composer\"] == \"bach\") & (expressiveness[\"condition\"] == \"reversed\")]\n",
    "exp_br_resp = exp_bach_r[[\"response_value\"]]\n",
    "\n",
    "exp_bach_s = expressiveness[(expressiveness[\"composer\"] == \"bach\") & (expressiveness[\"condition\"] == \"scrambled\")]\n",
    "exp_bs_resp = exp_bach_s[[\"response_value\"]]\n",
    "\n",
    "exp_chopin_f = expressiveness[(expressiveness[\"composer\"] == \"chopin\") & (expressiveness[\"condition\"] == \"forward\")]\n",
    "exp_cf_resp = exp_chopin_f[[\"response_value\"]]\n",
    "\n",
    "exp_chopin_r = expressiveness[(expressiveness[\"composer\"] == \"chopin\") & (expressiveness[\"condition\"] == \"reversed\")]\n",
    "exp_cr_resp = exp_chopin_r[[\"response_value\"]]\n",
    "\n",
    "exp_chopin_s = expressiveness[(expressiveness[\"composer\"] == \"chopin\") & (expressiveness[\"condition\"] == \"scrambled\")]\n",
    "exp_cs_resp = exp_chopin_s[[\"response_value\"]]"
   ]
  },
  {
   "cell_type": "code",
   "execution_count": 62,
   "metadata": {},
   "outputs": [
    {
     "data": {
      "text/plain": [
       "response_value    2.710526\n",
       "dtype: float64"
      ]
     },
     "execution_count": 62,
     "metadata": {},
     "output_type": "execute_result"
    }
   ],
   "source": [
    "exp_bf_resp.mean()"
   ]
  },
  {
   "cell_type": "code",
   "execution_count": 63,
   "metadata": {},
   "outputs": [
    {
     "data": {
      "text/plain": [
       "response_value    0.085367\n",
       "dtype: float64"
      ]
     },
     "execution_count": 63,
     "metadata": {},
     "output_type": "execute_result"
    }
   ],
   "source": [
    "exp_bf_resp.sem()"
   ]
  },
  {
   "cell_type": "code",
   "execution_count": 64,
   "metadata": {},
   "outputs": [
    {
     "data": {
      "text/plain": [
       "response_value    2.4625\n",
       "dtype: float64"
      ]
     },
     "execution_count": 64,
     "metadata": {},
     "output_type": "execute_result"
    }
   ],
   "source": [
    "exp_br_resp.mean()"
   ]
  },
  {
   "cell_type": "code",
   "execution_count": 65,
   "metadata": {},
   "outputs": [
    {
     "data": {
      "text/plain": [
       "response_value    0.085913\n",
       "dtype: float64"
      ]
     },
     "execution_count": 65,
     "metadata": {},
     "output_type": "execute_result"
    }
   ],
   "source": [
    "exp_br_resp.sem()"
   ]
  },
  {
   "cell_type": "code",
   "execution_count": 66,
   "metadata": {},
   "outputs": [
    {
     "data": {
      "text/plain": [
       "response_value    2.723684\n",
       "dtype: float64"
      ]
     },
     "execution_count": 66,
     "metadata": {},
     "output_type": "execute_result"
    }
   ],
   "source": [
    "exp_bs_resp.mean()"
   ]
  },
  {
   "cell_type": "code",
   "execution_count": 67,
   "metadata": {},
   "outputs": [
    {
     "data": {
      "text/plain": [
       "response_value    0.092973\n",
       "dtype: float64"
      ]
     },
     "execution_count": 67,
     "metadata": {},
     "output_type": "execute_result"
    }
   ],
   "source": [
    "exp_bs_resp.sem()"
   ]
  },
  {
   "cell_type": "code",
   "execution_count": 68,
   "metadata": {},
   "outputs": [
    {
     "data": {
      "text/plain": [
       "response_value    2.584416\n",
       "dtype: float64"
      ]
     },
     "execution_count": 68,
     "metadata": {},
     "output_type": "execute_result"
    }
   ],
   "source": [
    "exp_cf_resp.mean()"
   ]
  },
  {
   "cell_type": "code",
   "execution_count": 69,
   "metadata": {},
   "outputs": [
    {
     "data": {
      "text/plain": [
       "response_value    0.092454\n",
       "dtype: float64"
      ]
     },
     "execution_count": 69,
     "metadata": {},
     "output_type": "execute_result"
    }
   ],
   "source": [
    "exp_cf_resp.sem()"
   ]
  },
  {
   "cell_type": "code",
   "execution_count": 70,
   "metadata": {},
   "outputs": [
    {
     "data": {
      "text/plain": [
       "response_value    2.584416\n",
       "dtype: float64"
      ]
     },
     "execution_count": 70,
     "metadata": {},
     "output_type": "execute_result"
    }
   ],
   "source": [
    "exp_cf_resp.mean()"
   ]
  },
  {
   "cell_type": "code",
   "execution_count": 71,
   "metadata": {},
   "outputs": [
    {
     "data": {
      "text/plain": [
       "response_value    0.092454\n",
       "dtype: float64"
      ]
     },
     "execution_count": 71,
     "metadata": {},
     "output_type": "execute_result"
    }
   ],
   "source": [
    "exp_cf_resp.sem()"
   ]
  },
  {
   "cell_type": "code",
   "execution_count": 72,
   "metadata": {},
   "outputs": [
    {
     "data": {
      "text/plain": [
       "response_value    2.819444\n",
       "dtype: float64"
      ]
     },
     "execution_count": 72,
     "metadata": {},
     "output_type": "execute_result"
    }
   ],
   "source": [
    "exp_cr_resp.mean()"
   ]
  },
  {
   "cell_type": "code",
   "execution_count": 73,
   "metadata": {},
   "outputs": [
    {
     "data": {
      "text/plain": [
       "response_value    0.09174\n",
       "dtype: float64"
      ]
     },
     "execution_count": 73,
     "metadata": {},
     "output_type": "execute_result"
    }
   ],
   "source": [
    "exp_cr_resp.sem()"
   ]
  },
  {
   "cell_type": "code",
   "execution_count": 74,
   "metadata": {},
   "outputs": [
    {
     "data": {
      "text/plain": [
       "response_value    2.777778\n",
       "dtype: float64"
      ]
     },
     "execution_count": 74,
     "metadata": {},
     "output_type": "execute_result"
    }
   ],
   "source": [
    "exp_cs_resp.mean()"
   ]
  },
  {
   "cell_type": "code",
   "execution_count": 75,
   "metadata": {},
   "outputs": [
    {
     "data": {
      "text/plain": [
       "response_value    0.075342\n",
       "dtype: float64"
      ]
     },
     "execution_count": 75,
     "metadata": {},
     "output_type": "execute_result"
    }
   ],
   "source": [
    "exp_cs_resp.sem()"
   ]
  },
  {
   "cell_type": "code",
   "execution_count": null,
   "metadata": {
    "collapsed": true
   },
   "outputs": [],
   "source": []
  }
 ],
 "metadata": {
  "kernelspec": {
   "display_name": "Python 2",
   "language": "python",
   "name": "python2"
  },
  "language_info": {
   "codemirror_mode": {
    "name": "ipython",
    "version": 2
   },
   "file_extension": ".py",
   "mimetype": "text/x-python",
   "name": "python",
   "nbconvert_exporter": "python",
   "pygments_lexer": "ipython2",
   "version": "2.7.14"
  }
 },
 "nbformat": 4,
 "nbformat_minor": 2
}
