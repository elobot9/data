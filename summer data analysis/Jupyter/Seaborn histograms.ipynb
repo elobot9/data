{
 "cells": [
  {
   "cell_type": "code",
   "execution_count": 1,
   "metadata": {
    "collapsed": true
   },
   "outputs": [],
   "source": [
    "import numpy as np\n",
    "import pandas as pd\n",
    "import matplotlib\n",
    "import seaborn as sns\n",
    "import pylab as pl"
   ]
  },
  {
   "cell_type": "code",
   "execution_count": 2,
   "metadata": {
    "collapsed": true
   },
   "outputs": [],
   "source": [
    "#import csvs\n",
    "url_1 = 'rs_removed_part1.csv'\n",
    "url_2 = 'rs_removed_part2.csv'\n",
    "part_1 = pd.read_csv(url_1)\n",
    "part_2 = pd.read_csv(url_2)"
   ]
  },
  {
   "cell_type": "code",
   "execution_count": 3,
   "metadata": {
    "collapsed": true
   },
   "outputs": [],
   "source": [
    "#remove extra column\n",
    "part_1 = part_1[[\"ID\", \"composer\", \"condition\", \"name\", \"response_value\"]]\n",
    "part_2 = part_2[[\"ID\", \"composer\", \"condition\", \"name\", \"response_value\"]]"
   ]
  },
  {
   "cell_type": "code",
   "execution_count": 4,
   "metadata": {
    "collapsed": true
   },
   "outputs": [],
   "source": [
    "full = part_1.append(part_1)"
   ]
  },
  {
   "cell_type": "code",
   "execution_count": 5,
   "metadata": {
    "collapsed": true
   },
   "outputs": [],
   "source": [
    "%matplotlib inline\n",
    "import matplotlib.pyplot as plt"
   ]
  },
  {
   "cell_type": "code",
   "execution_count": 6,
   "metadata": {
    "collapsed": true
   },
   "outputs": [],
   "source": [
    "#isolate data by question name\n",
    "enjoyment = full[full[\"name\"] == \"enjoyment\"]\n",
    "desire = full[full[\"name\"] == \"desire-to-own\"]\n",
    "coherence = full[full[\"name\"] == \"coherence\"]\n",
    "dynamism = full[full[\"name\"] == \"dynamism\"]\n",
    "expressiveness = full[full[\"name\"] == \"expressiveness\"]\n",
    "affect = full[full[\"name\"] == \"affect\"]\n",
    "strangeness = full[full[\"name\"] == \"strangeness\"]"
   ]
  },
  {
   "cell_type": "code",
   "execution_count": 10,
   "metadata": {
    "collapsed": true
   },
   "outputs": [],
   "source": [
    "dto_bach = desire[desire[\"composer\"] == \"bach\"]\n",
    "dto_bach_rev = dto_bach[dto_bach[\"condition\"] == \"reversed\"]"
   ]
  },
  {
   "cell_type": "code",
   "execution_count": 13,
   "metadata": {},
   "outputs": [],
   "source": [
    "responses = dto_bach_rev[[\"response_value\"]]"
   ]
  },
  {
   "cell_type": "code",
   "execution_count": 35,
   "metadata": {},
   "outputs": [
    {
     "data": {
      "image/png": "[encoded data removed]",
      "text/plain": [
       "<matplotlib.figure.Figure at 0x7f45a2122110>"
      ]
     },
     "metadata": {},
     "output_type": "display_data"
    }
   ],
   "source": [
    "hgram = sns.distplot(responses, bins=5)"
   ]
  },
  {
   "cell_type": "code",
   "execution_count": 27,
   "metadata": {},
   "outputs": [],
   "source": [
    "responses.to_csv(\"dumb.csv\")"
   ]
  },
  {
   "cell_type": "code",
   "execution_count": null,
   "metadata": {
    "collapsed": true
   },
   "outputs": [],
   "source": []
  }
 ],
 "metadata": {
  "kernelspec": {
   "display_name": "Python 2",
   "language": "python",
   "name": "python2"
  },
  "language_info": {
   "codemirror_mode": {
    "name": "ipython",
    "version": 2
   },
   "file_extension": ".py",
   "mimetype": "text/x-python",
   "name": "python",
   "nbconvert_exporter": "python",
   "pygments_lexer": "ipython2",
   "version": "2.7.14"
  }
 },
 "nbformat": 4,
 "nbformat_minor": 2
}
